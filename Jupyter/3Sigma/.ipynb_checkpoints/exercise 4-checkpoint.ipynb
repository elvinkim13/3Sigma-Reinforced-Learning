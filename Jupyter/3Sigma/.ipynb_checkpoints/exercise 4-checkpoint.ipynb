{
 "cells": [
  {
   "cell_type": "markdown",
   "metadata": {},
   "source": [
    "# Q3"
   ]
  },
  {
   "cell_type": "markdown",
   "metadata": {},
   "source": [
    "Utility for printing the Q table"
   ]
  },
  {
   "cell_type": "code",
   "execution_count": 1,
   "metadata": {},
   "outputs": [],
   "source": [
    "import numpy as np\n",
    "import matplotlib.pyplot as plt\n",
    "from matplotlib.colors import ListedColormap"
   ]
  },
  {
   "cell_type": "code",
   "execution_count": 2,
   "metadata": {},
   "outputs": [],
   "source": [
    "def show_Q(Q, curr_state=None, next_state=None, action=None):\n",
    "    cmap = ListedColormap(['w'])\n",
    "    fig, ax = plt.subplots()\n",
    "    ax.matshow(Q, cmap=cmap)\n",
    "    for (i, j), z in np.ndenumerate(Q):\n",
    "        text = '-' if z == -np.inf else z\n",
    "        ax.text(j, i, text, ha='center', va='center')\n",
    "\n",
    "    actions = [\"facebook\", \"quit\", \"study\", \"pub\", \"sleep\"]\n",
    "    states = [\"FACEBOOK\", \"CLASS1\", \"CLASS2\", \"CLASS3\", \"SLEEP\"]\n",
    "    ax.set_xticklabels([\"\"] + actions)\n",
    "    ax.set_yticklabels([\"\"] + states[:-1])\n",
    "    if curr_state is not None:\n",
    "        ax.set_title(fr\"{states[curr_state]} {actions[action]}$\\rightarrow$ {states[next_state]}\")\n",
    "    else:\n",
    "        ax.set_title(\"initial state\")\n",
    "\n",
    "\n",
    "    plt.show()"
   ]
  },
  {
   "cell_type": "markdown",
   "metadata": {},
   "source": [
    "Initialize partially learned Q table"
   ]
  },
  {
   "cell_type": "code",
   "execution_count": 3,
   "metadata": {},
   "outputs": [
    {
     "data": {
      "text/plain": [
       "array([[-1. , -1. , -inf, -inf, -inf],\n",
       "       [-1.9, -inf, -2. , -inf, -inf],\n",
       "       [-inf, -inf, -1.1, -inf,  0. ],\n",
       "       [-inf, -inf, 10. ,  1. , -inf]])"
      ]
     },
     "execution_count": 3,
     "metadata": {},
     "output_type": "execute_result"
    }
   ],
   "source": [
    "Q = np.array([\n",
    "    [-1, -1, -np.inf, -np.inf, -np.inf],\n",
    "    [-1.9, -np.inf, -2, -np.inf, -np.inf],\n",
    "    [-np.inf, -np.inf, -1.1, -np.inf, 0],\n",
    "    [-np.inf, -np.inf, 10, 1, -np.inf],\n",
    "])\n",
    "Q"
   ]
  },
  {
   "cell_type": "code",
   "execution_count": 4,
   "metadata": {},
   "outputs": [
    {
     "name": "stderr",
     "output_type": "stream",
     "text": [
      "/var/folders/1j/1zdy6glx70zgxf6ynvw2cwpw0000gn/T/ipykernel_36343/2227415378.py:11: UserWarning: FixedFormatter should only be used together with FixedLocator\n",
      "  ax.set_xticklabels([\"\"] + actions)\n",
      "/var/folders/1j/1zdy6glx70zgxf6ynvw2cwpw0000gn/T/ipykernel_36343/2227415378.py:12: UserWarning: FixedFormatter should only be used together with FixedLocator\n",
      "  ax.set_yticklabels([\"\"] + states[:-1])\n"
     ]
    },
    {
     "data": {
      "image/png": "[encoded data removed]",
      "text/plain": [
       "<Figure size 432x288 with 1 Axes>"
      ]
     },
     "metadata": {
      "needs_background": "light"
     },
     "output_type": "display_data"
    }
   ],
   "source": [
    "show_Q(Q)"
   ]
  },
  {
   "cell_type": "markdown",
   "metadata": {},
   "source": [
    "Update rule of $Q$: $\\gamma = 0.9$\n",
    "$$\n",
    "Q(s, a)\\leftarrow r + 0.9 \\cdot \\max_{a'} Q(s', a')\n",
    "$$"
   ]
  },
  {
   "cell_type": "markdown",
   "metadata": {},
   "source": [
    "### 1. CLASS3 $pub\\rightarrow$ CLASS3\n",
    "\n",
    "\n"
   ]
  },
  {
   "cell_type": "code",
   "execution_count": null,
   "metadata": {},
   "outputs": [],
   "source": [
    "Q[3, 3] = \n",
    "show_Q(Q, 3, 3, 3)"
   ]
  },
  {
   "cell_type": "markdown",
   "metadata": {},
   "source": [
    "### 2. CLASS3 $pub\\rightarrow$ CLASS2\n"
   ]
  },
  {
   "cell_type": "code",
   "execution_count": null,
   "metadata": {},
   "outputs": [],
   "source": [
    "Q[3, 3] = \n",
    "show_Q(Q, 3, 2, 3)"
   ]
  },
  {
   "cell_type": "markdown",
   "metadata": {},
   "source": [
    "### 3. CLASS2 $study \\rightarrow$ CLASS3\n"
   ]
  },
  {
   "cell_type": "code",
   "execution_count": null,
   "metadata": {},
   "outputs": [],
   "source": [
    "Q[2, 2] = \n",
    "show_Q(Q, 2, 3, 2)"
   ]
  },
  {
   "cell_type": "markdown",
   "metadata": {},
   "source": [
    "### 4. CLASS3 $pub \\rightarrow$ CLASS1\n"
   ]
  },
  {
   "cell_type": "code",
   "execution_count": null,
   "metadata": {},
   "outputs": [],
   "source": [
    "Q[3, 3] = \n",
    "show_Q(Q, 3, 1, 3) "
   ]
  },
  {
   "cell_type": "markdown",
   "metadata": {},
   "source": [
    "### 5. CLASS1 $study \\rightarrow$ CLASS2\n"
   ]
  },
  {
   "cell_type": "code",
   "execution_count": null,
   "metadata": {},
   "outputs": [],
   "source": [
    "Q[1, 2] = \n",
    "show_Q(Q, 1, 2, 2)"
   ]
  },
  {
   "cell_type": "markdown",
   "metadata": {},
   "source": [
    "### 6. CLASS2 $sleep \\rightarrow$ SLEEP\n"
   ]
  },
  {
   "cell_type": "code",
   "execution_count": null,
   "metadata": {},
   "outputs": [],
   "source": [
    "Q[2, 4] = \n",
    "show_Q(Q, 2, 4, 4)"
   ]
  }
 ],
 "metadata": {
  "kernelspec": {
   "display_name": "Python 3 (ipykernel)",
   "language": "python",
   "name": "python3"
  },
  "language_info": {
   "codemirror_mode": {
    "name": "ipython",
    "version": 3
   },
   "file_extension": ".py",
   "mimetype": "text/x-python",
   "name": "python",
   "nbconvert_exporter": "python",
   "pygments_lexer": "ipython3",
   "version": "3.9.6"
  }
 },
 "nbformat": 4,
 "nbformat_minor": 2
}
