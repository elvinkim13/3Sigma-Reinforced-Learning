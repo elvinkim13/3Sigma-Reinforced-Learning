{
 "cells": [
  {
   "cell_type": "markdown",
   "metadata": {},
   "source": [
    "# Set up the world"
   ]
  },
  {
   "cell_type": "code",
   "execution_count": 1,
   "metadata": {},
   "outputs": [],
   "source": [
    "import numpy as np\n",
    "import random"
   ]
  },
  {
   "cell_type": "code",
   "execution_count": null,
   "metadata": {},
   "outputs": [],
   "source": [
    "states = [0, 1, 2, 3, 4, 5]\n",
    "actions = ['up', 'right', 'left']\n",
    "gamma = 0.9  # discout factor\n",
    "terminal_states = [0]"
   ]
  },
  {
   "cell_type": "markdown",
   "metadata": {},
   "source": [
    "## Q1: set up Q-table\n",
    "\n",
    "What is the dimension of the Q table? (hint: how many states are there? how many actions are there?)\n",
    "\n",
    "What should be the initial value of the `Q[s,a]`? (0 or $-\\infin$?) Justify yourself."
   ]
  },
  {
   "cell_type": "code",
   "execution_count": null,
   "metadata": {},
   "outputs": [],
   "source": [
    "def init_Q():\n",
    "    # put your code here...\n",
    "    Q = \n",
    "    return Q\n",
    "\n",
    "Q = init_Q()"
   ]
  },
  {
   "cell_type": "markdown",
   "metadata": {},
   "source": [
    "## Q2: select action function\n",
    "\n",
    "Please refer to the 4th class material to implement the action selection function."
   ]
  },
  {
   "cell_type": "code",
   "execution_count": null,
   "metadata": {},
   "outputs": [],
   "source": [
    "def random_select(state):\n",
    "    # select random action and return\n",
    "    # put your code here...\n",
    "    \n",
    "\n",
    "def greedy_select(state, Q):\n",
    "    # select the action that looks the best right now according to the Q table.\n",
    "    # put your code here...\n",
    "    \n",
    "\n",
    "def sometimes_random_select(state, Q, p):\n",
    "    # for probability p, be greedy. for probability (1 - p), be random.\n",
    "    # put your code here...\n",
    "    "
   ]
  },
  {
   "cell_type": "markdown",
   "metadata": {},
   "source": [
    "## Q3: Move function\n",
    "\n",
    "According to the description given, implement the move function: it should take\n",
    "the current state and action as input and return the reward and next state."
   ]
  },
  {
   "cell_type": "code",
   "execution_count": null,
   "metadata": {},
   "outputs": [],
   "source": [
    "def move(state, action):\n",
    "    # action \"up\" is implemented for you as an example.\n",
    "    if action == 'up':\n",
    "        reward = -1\n",
    "        if state in (4, 5):\n",
    "            next_state = state\n",
    "        else:\n",
    "            next_state = state + 2\n",
    "\n",
    "    elif action == 'left':\n",
    "        # put your code here...\n",
    "\n",
    "    elif action == 'right':\n",
    "        # put your code here...\n",
    "\n",
    "    \n",
    "    return reward, next_state\n"
   ]
  },
  {
   "cell_type": "markdown",
   "metadata": {},
   "source": [
    "## Q4: Q learning\n",
    "\n",
    "Implement the Q learning algorithm using the `sometimes_random_select` and `move` function.\n"
   ]
  },
  {
   "cell_type": "code",
   "execution_count": null,
   "metadata": {},
   "outputs": [],
   "source": [
    "def Q_learning(num_episodes, Q, gamma=0.9, p=0.8):\n",
    "    for i in range(num_episodes):\n",
    "        s = random.choice(states[1:])  # do not include s0\n",
    "        while True:\n",
    "            # 1. select action\n",
    "            # put your code here...\n",
    "            a = \n",
    "            \n",
    "            # 2. move\n",
    "            # put your code here...\n",
    "            reward, next_state = \n",
    "\n",
    "            # 3. update the Q table\n",
    "            # put your code here...\n",
    "\n",
    "            if next_state in terminal_states:\n",
    "                break\n"
   ]
  },
  {
   "cell_type": "code",
   "execution_count": null,
   "metadata": {},
   "outputs": [],
   "source": [
    "# run Q learning\n",
    "\n",
    "Q_learning(1000, Q, gamma=gamma, p=0.8)"
   ]
  },
  {
   "cell_type": "code",
   "execution_count": null,
   "metadata": {},
   "outputs": [],
   "source": [
    "print(Q)"
   ]
  },
  {
   "cell_type": "markdown",
   "metadata": {},
   "source": [
    "## Q5: Try Q learning with different number of episodes. How does it affect the final Q-table?"
   ]
  },
  {
   "cell_type": "code",
   "execution_count": null,
   "metadata": {},
   "outputs": [],
   "source": [
    "number_of_episodes = []  # put your code here...\n",
    "for n in number_of_episodes:\n",
    "    Q = init_Q()\n",
    "    Q_learning(n, Q, gamma=gamma, p=0.8)\n",
    "    print(Q)"
   ]
  },
  {
   "cell_type": "markdown",
   "metadata": {},
   "source": [
    "Write your observiation here."
   ]
  }
 ],
 "metadata": {
  "interpreter": {
   "hash": "a9f1b1ba030845a5df2721083c94ad527972bf7403acc66881a1d33996209a40"
  },
  "kernelspec": {
   "display_name": "Python 3 (ipykernel)",
   "language": "python",
   "name": "python3"
  },
  "language_info": {
   "codemirror_mode": {
    "name": "ipython",
    "version": 3
   },
   "file_extension": ".py",
   "mimetype": "text/x-python",
   "name": "python",
   "nbconvert_exporter": "python",
   "pygments_lexer": "ipython3",
   "version": "3.9.6"
  }
 },
 "nbformat": 4,
 "nbformat_minor": 2
}
