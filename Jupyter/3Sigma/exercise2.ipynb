{
 "cells": [
  {
   "cell_type": "markdown",
   "metadata": {},
   "source": [
    "## Exercise 2: Value Iteration"
   ]
  },
  {
   "cell_type": "markdown",
   "metadata": {},
   "source": [
    "I will define the graph as `P`:\n",
    "\n",
    "* `P[s]` = state `s`, where `p[0] = FACEBOOK, P[1] = CLASS1, p[2] = CLASS2, P[3] = CLASS3, P[4] = SLEEP`\n",
    "* Each state `P[s]` is a dictionary, with all possible `action : outcome pair`.\n",
    "* Each outcome is defined as a list of tuples, where each tuple denotes the different outcomes from the single action (for non-deterministic actions).\n",
    "* Within each outcome tuple, it is organized as `(probability of transition, next state, reward)`.\n"
   ]
  },
  {
   "cell_type": "code",
   "execution_count": null,
   "metadata": {},
   "outputs": [],
   "source": [
    "P = [\n",
    "    {\n",
    "        \"facebook\": [(1, 0, -1)],\n",
    "        \"quit\": [(1, 1, -1)],\n",
    "    },\n",
    "    {\n",
    "        \"facebook\": [(1, 0, -1)],\n",
    "        \"study\": [(1, 2, -2)],\n",
    "    },\n",
    "    {\n",
    "        \"sleep\": [(1, 4, 0)],\n",
    "        \"study\": [(1, 3, -2)],\n",
    "    },\n",
    "    {\n",
    "        \"pub\": [(0.2, 1, 1), (0.4, 2, 1), (0.4, 3, 1)],\n",
    "        \"study\": [(1, 4, 10)],\n",
    "    },\n",
    "    {},\n",
    "]"
   ]
  },
  {
   "cell_type": "code",
   "execution_count": null,
   "metadata": {},
   "outputs": [],
   "source": [
    "import numpy as np\n"
   ]
  },
  {
   "cell_type": "code",
   "execution_count": null,
   "metadata": {},
   "outputs": [],
   "source": [
    "def value_iter(graph, discount_factor=0.9, theta=0.00001):\n",
    "    # Start with a random (all 0) value function\n",
    "    states = [\"FACEBOOK\", \"CLASS1\", \"CLASS2\", \"CLASS3\", \"SLEEP\"]\n",
    "    V = np.zeros(len(graph))\n",
    "    Pi = np.zeros(len(graph)-1)\n",
    "    it = 0\n",
    "    while True:\n",
    "        delta = 0\n",
    "        for s in range(len(graph)):\n",
    "            v = V[s]\n",
    "            cand = [0]\n",
    "            for a in graph[s]:\n",
    "                val = 0\n",
    "                # For each action, look at the possible next states...\n",
    "                for  prob, next_state, reward in graph[s][a]:\n",
    "                    val += prob * (reward + discount_factor * V[next_state])\n",
    "                cand.append(val)\n",
    "            V[s] = max(cand)\n",
    "            # How much our value function changed (across any states)\n",
    "            delta = max(delta, np.abs(v - V[s]))\n",
    "        # Stop evaluating once our value function change is below a threshold\n",
    "        it += 1\n",
    "        print(f\"state values at iteration {it} \\n\", states, \"\\n\", V, \"\\n\")\n",
    "        if delta < theta:\n",
    "            break\n",
    "\n",
    "    for s in range(len(graph)-1):\n",
    "        cand = []\n",
    "        for a in graph[s]:\n",
    "            val = 0\n",
    "            for  prob, next_state, reward in graph[s][a]:\n",
    "                val += prob * (reward + discount_factor * V[next_state])\n",
    "            cand.append(val)\n",
    "        Pi[s] = np.argmax(cand)\n",
    "    return Pi"
   ]
  },
  {
   "cell_type": "code",
   "execution_count": null,
   "metadata": {},
   "outputs": [],
   "source": [
    "opt_policy = value_iter(P)"
   ]
  },
  {
   "cell_type": "code",
   "execution_count": null,
   "metadata": {},
   "outputs": [],
   "source": [
    "opt_policy"
   ]
  },
  {
   "cell_type": "markdown",
   "metadata": {},
   "source": [
    "The opt policy can be translated to:\n",
    "\n",
    "$$\n",
    "\\pi(FACEBOOK) = quit \\\\\n",
    "\\pi(CLASS1) = study \\\\\n",
    "\\pi(CLASS2) = study \\\\\n",
    "\\pi(CLASS3) = study\n",
    "$$"
   ]
  },
  {
   "cell_type": "markdown",
   "metadata": {},
   "source": []
  }
 ],
 "metadata": {
  "kernelspec": {
   "display_name": "Python 3 (ipykernel)",
   "language": "python",
   "name": "python3"
  },
  "language_info": {
   "codemirror_mode": {
    "name": "ipython",
    "version": 3
   },
   "file_extension": ".py",
   "mimetype": "text/x-python",
   "name": "python",
   "nbconvert_exporter": "python",
   "pygments_lexer": "ipython3",
   "version": "3.9.6"
  }
 },
 "nbformat": 4,
 "nbformat_minor": 2
}
