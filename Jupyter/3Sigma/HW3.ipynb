{
 "cells": [
  {
   "cell_type": "markdown",
   "metadata": {},
   "source": [
    "# Set up the world"
   ]
  },
  {
   "cell_type": "code",
   "execution_count": 13,
   "metadata": {},
   "outputs": [],
   "source": [
    "import numpy as np\n",
    "import random"
   ]
  },
  {
   "cell_type": "code",
   "execution_count": 14,
   "metadata": {},
   "outputs": [],
   "source": [
    "states = [0, 1, 2, 3, 4, 5]\n",
    "actions = ['up', 'right', 'left']\n",
    "gamma = 0.9  # discount factor\n",
    "terminal_states = [0]"
   ]
  },
  {
   "cell_type": "markdown",
   "metadata": {},
   "source": [
    "## Q1: set up Q-table\n",
    "\n",
    "What is the dimension of the Q table? (hint: how many states are there? how many actions are there?)\n",
    "\n",
    "What should be the initial value of the `Q[s,a]`? (0 or $-\\infin$?) Justify yourself."
   ]
  },
  {
   "cell_type": "code",
   "execution_count": 15,
   "metadata": {},
   "outputs": [],
   "source": [
    "def init_Q():\n",
    "    # put your code here...\n",
    "    Q = np.zeros([2,3,3])\n",
    "    \n",
    "    return Q\n",
    "\n",
    "Q = init_Q()"
   ]
  },
  {
   "cell_type": "markdown",
   "metadata": {},
   "source": [
    "## Q2: select action function\n",
    "\n",
    "Please refer to the 4th class material to implement the action selection function."
   ]
  },
  {
   "cell_type": "code",
   "execution_count": 18,
   "metadata": {},
   "outputs": [
    {
     "ename": "TabError",
     "evalue": "inconsistent use of tabs and spaces in indentation (2783767007.py, line 5)",
     "output_type": "error",
     "traceback": [
      "\u001b[0;36m  File \u001b[0;32m\"/var/folders/1j/1zdy6glx70zgxf6ynvw2cwpw0000gn/T/ipykernel_82539/2783767007.py\"\u001b[0;36m, line \u001b[0;32m5\u001b[0m\n\u001b[0;31m    return action\u001b[0m\n\u001b[0m                 ^\u001b[0m\n\u001b[0;31mTabError\u001b[0m\u001b[0;31m:\u001b[0m inconsistent use of tabs and spaces in indentation\n"
     ]
    }
   ],
   "source": [
    "def random_select(state):\n",
    "    # select random action and return\n",
    "    # put your code here...\n",
    "    action = random.choice(actions)\n",
    "\treturn action\n",
    "    \n",
    "\n",
    "def greedy_select(state, Q):\n",
    "    # select the action that looks the best right now according to the Q table.\n",
    "    # put your code here...\n",
    "    max_action = None\n",
    "    max_Q = 0\n",
    "    for a in actions:\n",
    "        if Q[state, a] > max_Q:\n",
    "            max_Q = Q[state, a]\n",
    "            max_action = a\n",
    "    return max_action\n",
    "\n",
    "def sometimes_random_select(state, Q, p):\n",
    "    # for probability p, be greedy. for probability (1 - p), be random.\n",
    "    # put your code here...\n",
    "    prob = random.rand(0, 1)  # random number between 0 and 1\n",
    "\tif prob < p:\n",
    "\t\treturn greedy_select(s)\n",
    "\telse:\n",
    "\t\treturn random_select(s)\n",
    "    "
   ]
  },
  {
   "cell_type": "markdown",
   "metadata": {},
   "source": [
    "## Q3: Move function\n",
    "\n",
    "According to the description given, implement the move function: it should take\n",
    "the current state and action as input and return the reward and next state."
   ]
  },
  {
   "cell_type": "code",
   "execution_count": 10,
   "metadata": {},
   "outputs": [],
   "source": [
    "def move(state, action):\n",
    "    # action \"up\" is implemented for you as an example.\n",
    "    if action == 'up':\n",
    "        reward = -1\n",
    "        if state in (4, 5):\n",
    "            next_state = state\n",
    "        else:\n",
    "            next_state = state + 2\n",
    "\n",
    "    elif action == 'left':\n",
    "        # put your code here...\n",
    "        if state in (1, 3, 5):\n",
    "            reward = 0\n",
    "            next_state = state - 1\n",
    "        elif state in (0):\n",
    "            reward = -1\n",
    "            next_state = state\n",
    "        elif state in (2):\n",
    "            reward = -100\n",
    "            next_state = state\n",
    "        else:\n",
    "            reward = 10\n",
    "            next_state = 0\n",
    "    elif action == 'right':\n",
    "        # put your code here...\n",
    "        if state in (0, 2, 4):\n",
    "            reward = 0\n",
    "            next_state = state + 1\n",
    "        else:\n",
    "            reward = -1\n",
    "            next_state = state\n",
    "\n",
    "    \n",
    "    return reward, next_state\n"
   ]
  },
  {
   "cell_type": "markdown",
   "metadata": {},
   "source": [
    "## Q4: Q learning\n",
    "\n",
    "Implement the Q learning algorithm using the `sometimes_random_select` and `move` function.\n"
   ]
  },
  {
   "cell_type": "code",
   "execution_count": 19,
   "metadata": {},
   "outputs": [
    {
     "ename": "TabError",
     "evalue": "inconsistent use of tabs and spaces in indentation (3834537648.py, line 16)",
     "output_type": "error",
     "traceback": [
      "\u001b[0;36m  File \u001b[0;32m\"/var/folders/1j/1zdy6glx70zgxf6ynvw2cwpw0000gn/T/ipykernel_82539/3834537648.py\"\u001b[0;36m, line \u001b[0;32m16\u001b[0m\n\u001b[0;31m    for next_a in actions:\u001b[0m\n\u001b[0m                          ^\u001b[0m\n\u001b[0;31mTabError\u001b[0m\u001b[0;31m:\u001b[0m inconsistent use of tabs and spaces in indentation\n"
     ]
    }
   ],
   "source": [
    "def Q_learning(num_episodes, Q, gamma=0.9, p=0.8):\n",
    "    for i in range(num_episodes):\n",
    "        s = random.choice(states[1:])  # do not include s0\n",
    "        while True:\n",
    "            # 1. select action\n",
    "            # put your code here...\n",
    "            a = sometimes_random_select(state, Q, p)\n",
    "            \n",
    "            # 2. move\n",
    "            # put your code here...\n",
    "            reward, next_state = move(s, a)\n",
    "\n",
    "            # 3. update the Q table\n",
    "            # put your code here...\n",
    "            values = []\n",
    "\t\t    for next_a in actions:\n",
    "\t\t\t    values.append(Q[next_state, next_a])\n",
    "\n",
    "\t\t    Q[s, a] = reward + gamma * max(values)\n",
    "\n",
    "            if next_state in terminal_states:\n",
    "                break\n"
   ]
  },
  {
   "cell_type": "code",
   "execution_count": 20,
   "metadata": {},
   "outputs": [
    {
     "ename": "NameError",
     "evalue": "name 'Q_learning' is not defined",
     "output_type": "error",
     "traceback": [
      "\u001b[0;31m---------------------------------------------------------------------------\u001b[0m",
      "\u001b[0;31mNameError\u001b[0m                                 Traceback (most recent call last)",
      "\u001b[0;32m/var/folders/1j/1zdy6glx70zgxf6ynvw2cwpw0000gn/T/ipykernel_82539/3568983839.py\u001b[0m in \u001b[0;36m<module>\u001b[0;34m\u001b[0m\n\u001b[1;32m      1\u001b[0m \u001b[0;31m# run Q learning\u001b[0m\u001b[0;34m\u001b[0m\u001b[0;34m\u001b[0m\u001b[0;34m\u001b[0m\u001b[0m\n\u001b[1;32m      2\u001b[0m \u001b[0;34m\u001b[0m\u001b[0m\n\u001b[0;32m----> 3\u001b[0;31m \u001b[0mQ_learning\u001b[0m\u001b[0;34m(\u001b[0m\u001b[0;36m1000\u001b[0m\u001b[0;34m,\u001b[0m \u001b[0mQ\u001b[0m\u001b[0;34m,\u001b[0m \u001b[0mgamma\u001b[0m\u001b[0;34m=\u001b[0m\u001b[0mgamma\u001b[0m\u001b[0;34m,\u001b[0m \u001b[0mp\u001b[0m\u001b[0;34m=\u001b[0m\u001b[0;36m0.8\u001b[0m\u001b[0;34m)\u001b[0m\u001b[0;34m\u001b[0m\u001b[0;34m\u001b[0m\u001b[0m\n\u001b[0m",
      "\u001b[0;31mNameError\u001b[0m: name 'Q_learning' is not defined"
     ]
    }
   ],
   "source": [
    "# run Q learning\n",
    "\n",
    "Q_learning(1000, Q, gamma=gamma, p=0.8)"
   ]
  },
  {
   "cell_type": "code",
   "execution_count": 21,
   "metadata": {},
   "outputs": [
    {
     "name": "stdout",
     "output_type": "stream",
     "text": [
      "[[[0. 0. 0.]\n",
      "  [0. 0. 0.]\n",
      "  [0. 0. 0.]]\n",
      "\n",
      " [[0. 0. 0.]\n",
      "  [0. 0. 0.]\n",
      "  [0. 0. 0.]]]\n"
     ]
    }
   ],
   "source": [
    "print(Q)"
   ]
  },
  {
   "cell_type": "markdown",
   "metadata": {},
   "source": [
    "## Q5: Try Q learning with different number of episodes. How does it affect the final Q-table?"
   ]
  },
  {
   "cell_type": "code",
   "execution_count": null,
   "metadata": {},
   "outputs": [],
   "source": [
    "number_of_episodes = []  # put your code here...\n",
    "for n in number_of_episodes:\n",
    "    Q = init_Q()\n",
    "    Q_learning(n, Q, gamma=gamma, p=0.8)\n",
    "    print(Q)"
   ]
  },
  {
   "cell_type": "markdown",
   "metadata": {},
   "source": [
    "Write your observiation here."
   ]
  }
 ],
 "metadata": {
  "interpreter": {
   "hash": "a9f1b1ba030845a5df2721083c94ad527972bf7403acc66881a1d33996209a40"
  },
  "kernelspec": {
   "display_name": "Python 3 (ipykernel)",
   "language": "python",
   "name": "python3"
  },
  "language_info": {
   "codemirror_mode": {
    "name": "ipython",
    "version": 3
   },
   "file_extension": ".py",
   "mimetype": "text/x-python",
   "name": "python",
   "nbconvert_exporter": "python",
   "pygments_lexer": "ipython3",
   "version": "3.9.6"
  }
 },
 "nbformat": 4,
 "nbformat_minor": 2
}
